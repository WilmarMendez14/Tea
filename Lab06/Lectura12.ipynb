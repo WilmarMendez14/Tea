{
 "cells": [
  {
   "cell_type": "code",
   "execution_count": 1,
   "id": "efccc34b",
   "metadata": {},
   "outputs": [],
   "source": [
    "x = 1"
   ]
  },
  {
   "cell_type": "code",
   "execution_count": 2,
   "id": "67669b9d",
   "metadata": {},
   "outputs": [
    {
     "name": "stdout",
     "output_type": "stream",
     "text": [
      "1\n"
     ]
    }
   ],
   "source": [
    "print(x)"
   ]
  },
  {
   "cell_type": "code",
   "execution_count": 5,
   "id": "dedb5303",
   "metadata": {},
   "outputs": [],
   "source": [
    "import pandas as pd"
   ]
  },
  {
   "cell_type": "code",
   "execution_count": 6,
   "id": "671150f6",
   "metadata": {},
   "outputs": [],
   "source": [
    "from matplotlib import pyplot as plt"
   ]
  },
  {
   "cell_type": "code",
   "execution_count": 7,
   "id": "c03a2347",
   "metadata": {},
   "outputs": [
    {
     "data": {
      "image/png": "[encoded data removed]",
      "text/plain": [
       "<Figure size 640x480 with 1 Axes>"
      ]
     },
     "metadata": {},
     "output_type": "display_data"
    }
   ],
   "source": [
    "x = [1, 2, 3]\n",
    "y = [1, 2, 9]\n",
    "z = [10, 5, 0]\n",
    "plt.plot(x, y)\n",
    "plt.plot(x, z)\n",
    "plt.title(\"X and Y sample\")\n",
    "plt.xlabel(\"x\")\n",
    "plt.ylabel(\"y\")\n",
    "plt.legend([\"this is y\", \"this is z\"])\n",
    "plt.show()"
   ]
  },
  {
   "cell_type": "code",
   "execution_count": 8,
   "id": "3fbedd46",
   "metadata": {},
   "outputs": [],
   "source": [
    "# analisis de datos en python"
   ]
  },
  {
   "cell_type": "code",
   "execution_count": 10,
   "id": "e6a31f7a",
   "metadata": {},
   "outputs": [],
   "source": [
    "sample_data = pd.read_csv(\"sample_data.csv\")"
   ]
  },
  {
   "cell_type": "code",
   "execution_count": 11,
   "id": "393d35c6",
   "metadata": {},
   "outputs": [
    {
     "data": {
      "text/html": [
       "<div>\n",
       "<style scoped>\n",
       "    .dataframe tbody tr th:only-of-type {\n",
       "        vertical-align: middle;\n",
       "    }\n",
       "\n",
       "    .dataframe tbody tr th {\n",
       "        vertical-align: top;\n",
       "    }\n",
       "\n",
       "    .dataframe thead th {\n",
       "        text-align: right;\n",
       "    }\n",
       "</style>\n",
       "<table border=\"1\" class=\"dataframe\">\n",
       "  <thead>\n",
       "    <tr style=\"text-align: right;\">\n",
       "      <th></th>\n",
       "      <th>column_a</th>\n",
       "      <th>column_b</th>\n",
       "      <th>column_c</th>\n",
       "    </tr>\n",
       "  </thead>\n",
       "  <tbody>\n",
       "    <tr>\n",
       "      <th>0</th>\n",
       "      <td>1</td>\n",
       "      <td>1</td>\n",
       "      <td>10</td>\n",
       "    </tr>\n",
       "    <tr>\n",
       "      <th>1</th>\n",
       "      <td>2</td>\n",
       "      <td>4</td>\n",
       "      <td>8</td>\n",
       "    </tr>\n",
       "    <tr>\n",
       "      <th>2</th>\n",
       "      <td>3</td>\n",
       "      <td>9</td>\n",
       "      <td>6</td>\n",
       "    </tr>\n",
       "    <tr>\n",
       "      <th>3</th>\n",
       "      <td>4</td>\n",
       "      <td>16</td>\n",
       "      <td>4</td>\n",
       "    </tr>\n",
       "    <tr>\n",
       "      <th>4</th>\n",
       "      <td>5</td>\n",
       "      <td>25</td>\n",
       "      <td>2</td>\n",
       "    </tr>\n",
       "  </tbody>\n",
       "</table>\n",
       "</div>"
      ],
      "text/plain": [
       "   column_a  column_b  column_c\n",
       "0         1         1        10\n",
       "1         2         4         8\n",
       "2         3         9         6\n",
       "3         4        16         4\n",
       "4         5        25         2"
      ]
     },
     "execution_count": 11,
     "metadata": {},
     "output_type": "execute_result"
    }
   ],
   "source": [
    "sample_data"
   ]
  },
  {
   "cell_type": "code",
   "execution_count": 12,
   "id": "efa12156",
   "metadata": {},
   "outputs": [
    {
     "data": {
      "text/plain": [
       "pandas.core.frame.DataFrame"
      ]
     },
     "execution_count": 12,
     "metadata": {},
     "output_type": "execute_result"
    }
   ],
   "source": [
    "type(sample_data)"
   ]
  },
  {
   "cell_type": "code",
   "execution_count": 13,
   "id": "d82d015c",
   "metadata": {},
   "outputs": [
    {
     "data": {
      "text/plain": [
       "0    10\n",
       "1     8\n",
       "2     6\n",
       "3     4\n",
       "4     2\n",
       "Name: column_c, dtype: int64"
      ]
     },
     "execution_count": 13,
     "metadata": {},
     "output_type": "execute_result"
    }
   ],
   "source": [
    "sample_data.column_c"
   ]
  },
  {
   "cell_type": "code",
   "execution_count": 14,
   "id": "757cbfac",
   "metadata": {},
   "outputs": [
    {
     "data": {
      "text/plain": [
       "pandas.core.series.Series"
      ]
     },
     "execution_count": 14,
     "metadata": {},
     "output_type": "execute_result"
    }
   ],
   "source": [
    "type(sample_data.column_c)"
   ]
  },
  {
   "cell_type": "code",
   "execution_count": 15,
   "id": "f1acc843",
   "metadata": {},
   "outputs": [
    {
     "data": {
      "text/plain": [
       "4"
      ]
     },
     "execution_count": 15,
     "metadata": {},
     "output_type": "execute_result"
    }
   ],
   "source": [
    "sample_data.column_c.iloc[3]"
   ]
  },
  {
   "cell_type": "code",
   "execution_count": 17,
   "id": "3b2cab29",
   "metadata": {},
   "outputs": [
    {
     "data": {
      "image/png": "[encoded data removed]",
      "text/plain": [
       "<Figure size 640x480 with 1 Axes>"
      ]
     },
     "metadata": {},
     "output_type": "display_data"
    }
   ],
   "source": [
    "plt.plot(sample_data.column_a, sample_data.column_b)\n",
    "plt.plot(sample_data.column_a, sample_data.column_c)\n",
    "plt.show()"
   ]
  },
  {
   "cell_type": "code",
   "execution_count": 18,
   "id": "dd17862e",
   "metadata": {},
   "outputs": [],
   "source": [
    "# analizar el crecimiento de la poblacion de Guatemala y Honduras"
   ]
  },
  {
   "cell_type": "code",
   "execution_count": 19,
   "id": "dd0b54cf",
   "metadata": {},
   "outputs": [],
   "source": [
    "data = pd.read_csv(\"countries.csv\")"
   ]
  },
  {
   "cell_type": "code",
   "execution_count": 20,
   "id": "c7017837",
   "metadata": {},
   "outputs": [
    {
     "data": {
      "text/html": [
       "<div>\n",
       "<style scoped>\n",
       "    .dataframe tbody tr th:only-of-type {\n",
       "        vertical-align: middle;\n",
       "    }\n",
       "\n",
       "    .dataframe tbody tr th {\n",
       "        vertical-align: top;\n",
       "    }\n",
       "\n",
       "    .dataframe thead th {\n",
       "        text-align: right;\n",
       "    }\n",
       "</style>\n",
       "<table border=\"1\" class=\"dataframe\">\n",
       "  <thead>\n",
       "    <tr style=\"text-align: right;\">\n",
       "      <th></th>\n",
       "      <th>country</th>\n",
       "      <th>year</th>\n",
       "      <th>population</th>\n",
       "    </tr>\n",
       "  </thead>\n",
       "  <tbody>\n",
       "    <tr>\n",
       "      <th>0</th>\n",
       "      <td>Afghanistan</td>\n",
       "      <td>1952</td>\n",
       "      <td>8425333</td>\n",
       "    </tr>\n",
       "    <tr>\n",
       "      <th>1</th>\n",
       "      <td>Afghanistan</td>\n",
       "      <td>1957</td>\n",
       "      <td>9240934</td>\n",
       "    </tr>\n",
       "    <tr>\n",
       "      <th>2</th>\n",
       "      <td>Afghanistan</td>\n",
       "      <td>1962</td>\n",
       "      <td>10267083</td>\n",
       "    </tr>\n",
       "    <tr>\n",
       "      <th>3</th>\n",
       "      <td>Afghanistan</td>\n",
       "      <td>1967</td>\n",
       "      <td>11537966</td>\n",
       "    </tr>\n",
       "    <tr>\n",
       "      <th>4</th>\n",
       "      <td>Afghanistan</td>\n",
       "      <td>1972</td>\n",
       "      <td>13079460</td>\n",
       "    </tr>\n",
       "    <tr>\n",
       "      <th>...</th>\n",
       "      <td>...</td>\n",
       "      <td>...</td>\n",
       "      <td>...</td>\n",
       "    </tr>\n",
       "    <tr>\n",
       "      <th>1699</th>\n",
       "      <td>Zimbabwe</td>\n",
       "      <td>1987</td>\n",
       "      <td>9216418</td>\n",
       "    </tr>\n",
       "    <tr>\n",
       "      <th>1700</th>\n",
       "      <td>Zimbabwe</td>\n",
       "      <td>1992</td>\n",
       "      <td>10704340</td>\n",
       "    </tr>\n",
       "    <tr>\n",
       "      <th>1701</th>\n",
       "      <td>Zimbabwe</td>\n",
       "      <td>1997</td>\n",
       "      <td>11404948</td>\n",
       "    </tr>\n",
       "    <tr>\n",
       "      <th>1702</th>\n",
       "      <td>Zimbabwe</td>\n",
       "      <td>2002</td>\n",
       "      <td>11926563</td>\n",
       "    </tr>\n",
       "    <tr>\n",
       "      <th>1703</th>\n",
       "      <td>Zimbabwe</td>\n",
       "      <td>2007</td>\n",
       "      <td>12311143</td>\n",
       "    </tr>\n",
       "  </tbody>\n",
       "</table>\n",
       "<p>1704 rows × 3 columns</p>\n",
       "</div>"
      ],
      "text/plain": [
       "          country  year  population\n",
       "0     Afghanistan  1952     8425333\n",
       "1     Afghanistan  1957     9240934\n",
       "2     Afghanistan  1962    10267083\n",
       "3     Afghanistan  1967    11537966\n",
       "4     Afghanistan  1972    13079460\n",
       "...           ...   ...         ...\n",
       "1699     Zimbabwe  1987     9216418\n",
       "1700     Zimbabwe  1992    10704340\n",
       "1701     Zimbabwe  1997    11404948\n",
       "1702     Zimbabwe  2002    11926563\n",
       "1703     Zimbabwe  2007    12311143\n",
       "\n",
       "[1704 rows x 3 columns]"
      ]
     },
     "execution_count": 20,
     "metadata": {},
     "output_type": "execute_result"
    }
   ],
   "source": [
    "data"
   ]
  },
  {
   "cell_type": "code",
   "execution_count": 21,
   "id": "2b514bf2",
   "metadata": {},
   "outputs": [],
   "source": [
    "guatemala = data[data.country == \"Guatemala\"]"
   ]
  },
  {
   "cell_type": "code",
   "execution_count": 22,
   "id": "7ca0d9fa",
   "metadata": {},
   "outputs": [
    {
     "data": {
      "text/html": [
       "<div>\n",
       "<style scoped>\n",
       "    .dataframe tbody tr th:only-of-type {\n",
       "        vertical-align: middle;\n",
       "    }\n",
       "\n",
       "    .dataframe tbody tr th {\n",
       "        vertical-align: top;\n",
       "    }\n",
       "\n",
       "    .dataframe thead th {\n",
       "        text-align: right;\n",
       "    }\n",
       "</style>\n",
       "<table border=\"1\" class=\"dataframe\">\n",
       "  <thead>\n",
       "    <tr style=\"text-align: right;\">\n",
       "      <th></th>\n",
       "      <th>country</th>\n",
       "      <th>year</th>\n",
       "      <th>population</th>\n",
       "    </tr>\n",
       "  </thead>\n",
       "  <tbody>\n",
       "    <tr>\n",
       "      <th>600</th>\n",
       "      <td>Guatemala</td>\n",
       "      <td>1952</td>\n",
       "      <td>3146381</td>\n",
       "    </tr>\n",
       "    <tr>\n",
       "      <th>601</th>\n",
       "      <td>Guatemala</td>\n",
       "      <td>1957</td>\n",
       "      <td>3640876</td>\n",
       "    </tr>\n",
       "    <tr>\n",
       "      <th>602</th>\n",
       "      <td>Guatemala</td>\n",
       "      <td>1962</td>\n",
       "      <td>4208858</td>\n",
       "    </tr>\n",
       "    <tr>\n",
       "      <th>603</th>\n",
       "      <td>Guatemala</td>\n",
       "      <td>1967</td>\n",
       "      <td>4690773</td>\n",
       "    </tr>\n",
       "    <tr>\n",
       "      <th>604</th>\n",
       "      <td>Guatemala</td>\n",
       "      <td>1972</td>\n",
       "      <td>5149581</td>\n",
       "    </tr>\n",
       "    <tr>\n",
       "      <th>605</th>\n",
       "      <td>Guatemala</td>\n",
       "      <td>1977</td>\n",
       "      <td>5703430</td>\n",
       "    </tr>\n",
       "    <tr>\n",
       "      <th>606</th>\n",
       "      <td>Guatemala</td>\n",
       "      <td>1982</td>\n",
       "      <td>6395630</td>\n",
       "    </tr>\n",
       "    <tr>\n",
       "      <th>607</th>\n",
       "      <td>Guatemala</td>\n",
       "      <td>1987</td>\n",
       "      <td>7326406</td>\n",
       "    </tr>\n",
       "    <tr>\n",
       "      <th>608</th>\n",
       "      <td>Guatemala</td>\n",
       "      <td>1992</td>\n",
       "      <td>8486949</td>\n",
       "    </tr>\n",
       "    <tr>\n",
       "      <th>609</th>\n",
       "      <td>Guatemala</td>\n",
       "      <td>1997</td>\n",
       "      <td>9803875</td>\n",
       "    </tr>\n",
       "    <tr>\n",
       "      <th>610</th>\n",
       "      <td>Guatemala</td>\n",
       "      <td>2002</td>\n",
       "      <td>11178650</td>\n",
       "    </tr>\n",
       "    <tr>\n",
       "      <th>611</th>\n",
       "      <td>Guatemala</td>\n",
       "      <td>2007</td>\n",
       "      <td>12572928</td>\n",
       "    </tr>\n",
       "  </tbody>\n",
       "</table>\n",
       "</div>"
      ],
      "text/plain": [
       "       country  year  population\n",
       "600  Guatemala  1952     3146381\n",
       "601  Guatemala  1957     3640876\n",
       "602  Guatemala  1962     4208858\n",
       "603  Guatemala  1967     4690773\n",
       "604  Guatemala  1972     5149581\n",
       "605  Guatemala  1977     5703430\n",
       "606  Guatemala  1982     6395630\n",
       "607  Guatemala  1987     7326406\n",
       "608  Guatemala  1992     8486949\n",
       "609  Guatemala  1997     9803875\n",
       "610  Guatemala  2002    11178650\n",
       "611  Guatemala  2007    12572928"
      ]
     },
     "execution_count": 22,
     "metadata": {},
     "output_type": "execute_result"
    }
   ],
   "source": [
    "guatemala"
   ]
  },
  {
   "cell_type": "code",
   "execution_count": 23,
   "id": "7b099cd9",
   "metadata": {},
   "outputs": [],
   "source": [
    "honduras = data[data.country == \"Honduras\"]"
   ]
  },
  {
   "cell_type": "code",
   "execution_count": 24,
   "id": "fbdc9442",
   "metadata": {},
   "outputs": [
    {
     "data": {
      "text/html": [
       "<div>\n",
       "<style scoped>\n",
       "    .dataframe tbody tr th:only-of-type {\n",
       "        vertical-align: middle;\n",
       "    }\n",
       "\n",
       "    .dataframe tbody tr th {\n",
       "        vertical-align: top;\n",
       "    }\n",
       "\n",
       "    .dataframe thead th {\n",
       "        text-align: right;\n",
       "    }\n",
       "</style>\n",
       "<table border=\"1\" class=\"dataframe\">\n",
       "  <thead>\n",
       "    <tr style=\"text-align: right;\">\n",
       "      <th></th>\n",
       "      <th>country</th>\n",
       "      <th>year</th>\n",
       "      <th>population</th>\n",
       "    </tr>\n",
       "  </thead>\n",
       "  <tbody>\n",
       "    <tr>\n",
       "      <th>648</th>\n",
       "      <td>Honduras</td>\n",
       "      <td>1952</td>\n",
       "      <td>1517453</td>\n",
       "    </tr>\n",
       "    <tr>\n",
       "      <th>649</th>\n",
       "      <td>Honduras</td>\n",
       "      <td>1957</td>\n",
       "      <td>1770390</td>\n",
       "    </tr>\n",
       "    <tr>\n",
       "      <th>650</th>\n",
       "      <td>Honduras</td>\n",
       "      <td>1962</td>\n",
       "      <td>2090162</td>\n",
       "    </tr>\n",
       "    <tr>\n",
       "      <th>651</th>\n",
       "      <td>Honduras</td>\n",
       "      <td>1967</td>\n",
       "      <td>2500689</td>\n",
       "    </tr>\n",
       "    <tr>\n",
       "      <th>652</th>\n",
       "      <td>Honduras</td>\n",
       "      <td>1972</td>\n",
       "      <td>2965146</td>\n",
       "    </tr>\n",
       "    <tr>\n",
       "      <th>653</th>\n",
       "      <td>Honduras</td>\n",
       "      <td>1977</td>\n",
       "      <td>3055235</td>\n",
       "    </tr>\n",
       "    <tr>\n",
       "      <th>654</th>\n",
       "      <td>Honduras</td>\n",
       "      <td>1982</td>\n",
       "      <td>3669448</td>\n",
       "    </tr>\n",
       "    <tr>\n",
       "      <th>655</th>\n",
       "      <td>Honduras</td>\n",
       "      <td>1987</td>\n",
       "      <td>4372203</td>\n",
       "    </tr>\n",
       "    <tr>\n",
       "      <th>656</th>\n",
       "      <td>Honduras</td>\n",
       "      <td>1992</td>\n",
       "      <td>5077347</td>\n",
       "    </tr>\n",
       "    <tr>\n",
       "      <th>657</th>\n",
       "      <td>Honduras</td>\n",
       "      <td>1997</td>\n",
       "      <td>5867957</td>\n",
       "    </tr>\n",
       "    <tr>\n",
       "      <th>658</th>\n",
       "      <td>Honduras</td>\n",
       "      <td>2002</td>\n",
       "      <td>6677328</td>\n",
       "    </tr>\n",
       "    <tr>\n",
       "      <th>659</th>\n",
       "      <td>Honduras</td>\n",
       "      <td>2007</td>\n",
       "      <td>7483763</td>\n",
       "    </tr>\n",
       "  </tbody>\n",
       "</table>\n",
       "</div>"
      ],
      "text/plain": [
       "      country  year  population\n",
       "648  Honduras  1952     1517453\n",
       "649  Honduras  1957     1770390\n",
       "650  Honduras  1962     2090162\n",
       "651  Honduras  1967     2500689\n",
       "652  Honduras  1972     2965146\n",
       "653  Honduras  1977     3055235\n",
       "654  Honduras  1982     3669448\n",
       "655  Honduras  1987     4372203\n",
       "656  Honduras  1992     5077347\n",
       "657  Honduras  1997     5867957\n",
       "658  Honduras  2002     6677328\n",
       "659  Honduras  2007     7483763"
      ]
     },
     "execution_count": 24,
     "metadata": {},
     "output_type": "execute_result"
    }
   ],
   "source": [
    "honduras"
   ]
  },
  {
   "cell_type": "code",
   "execution_count": 26,
   "id": "16024cdb",
   "metadata": {},
   "outputs": [
    {
     "data": {
      "image/png": "[encoded data removed]",
      "text/plain": [
       "<Figure size 640x480 with 1 Axes>"
      ]
     },
     "metadata": {},
     "output_type": "display_data"
    }
   ],
   "source": [
    "plt.plot(guatemala.year, guatemala.population/10**6)\n",
    "plt.plot(honduras.year, honduras.population/10**6)\n",
    "plt.legend([\"Guatemala\", \"Honduras\"])\n",
    "plt.xlabel(\"Año\")\n",
    "plt.ylabel(\"Poblacion (millones)\")\n",
    "plt.show()"
   ]
  },
  {
   "cell_type": "code",
   "execution_count": 27,
   "id": "082e3172",
   "metadata": {},
   "outputs": [
    {
     "data": {
      "text/plain": [
       "600     3146381\n",
       "601     3640876\n",
       "602     4208858\n",
       "603     4690773\n",
       "604     5149581\n",
       "605     5703430\n",
       "606     6395630\n",
       "607     7326406\n",
       "608     8486949\n",
       "609     9803875\n",
       "610    11178650\n",
       "611    12572928\n",
       "Name: population, dtype: int64"
      ]
     },
     "execution_count": 27,
     "metadata": {},
     "output_type": "execute_result"
    }
   ],
   "source": [
    "guatemala.population"
   ]
  },
  {
   "cell_type": "code",
   "execution_count": 28,
   "id": "e7b1802c",
   "metadata": {},
   "outputs": [
    {
     "data": {
      "text/plain": [
       "600    1.000000\n",
       "601    1.157163\n",
       "602    1.337682\n",
       "603    1.490847\n",
       "604    1.636668\n",
       "605    1.812695\n",
       "606    2.032694\n",
       "607    2.328518\n",
       "608    2.697369\n",
       "609    3.115921\n",
       "610    3.552860\n",
       "611    3.995997\n",
       "Name: population, dtype: float64"
      ]
     },
     "execution_count": 28,
     "metadata": {},
     "output_type": "execute_result"
    }
   ],
   "source": [
    "guatemala.population / guatemala.population.iloc[0]"
   ]
  },
  {
   "cell_type": "code",
   "execution_count": 29,
   "id": "141b55d1",
   "metadata": {},
   "outputs": [
    {
     "data": {
      "text/plain": [
       "600    100.000000\n",
       "601    115.716310\n",
       "602    133.768225\n",
       "603    149.084710\n",
       "604    163.666797\n",
       "605    181.269528\n",
       "606    203.269407\n",
       "607    232.851838\n",
       "608    269.736850\n",
       "609    311.592112\n",
       "610    355.285962\n",
       "611    399.599667\n",
       "Name: population, dtype: float64"
      ]
     },
     "execution_count": 29,
     "metadata": {},
     "output_type": "execute_result"
    }
   ],
   "source": [
    "guatemala.population / guatemala.population.iloc[0]*100"
   ]
  },
  {
   "cell_type": "code",
   "execution_count": 35,
   "id": "70085d44",
   "metadata": {},
   "outputs": [
    {
     "data": {
      "image/png": "[encoded data removed]",
      "text/plain": [
       "<Figure size 640x480 with 1 Axes>"
      ]
     },
     "metadata": {},
     "output_type": "display_data"
    }
   ],
   "source": [
    "plt.plot(guatemala.year, guatemala.population / guatemala.population.iloc[0]*100)\n",
    "plt.plot(honduras.year, honduras.population / honduras.population.iloc[0]*100)\n",
    "plt.legend([\"Guatemala\", \"Honduras\"])\n",
    "plt.xlabel(\"Año\")\n",
    "plt.ylabel(\"crecimiento de la poblacion (1er year 100)\")\n",
    "plt.show()"
   ]
  },
  {
   "cell_type": "code",
   "execution_count": null,
   "id": "5843f0d7",
   "metadata": {},
   "outputs": [],
   "source": []
  }
 ],
 "metadata": {
  "kernelspec": {
   "display_name": "Python 3 (ipykernel)",
   "language": "python",
   "name": "python3"
  },
  "language_info": {
   "codemirror_mode": {
    "name": "ipython",
    "version": 3
   },
   "file_extension": ".py",
   "mimetype": "text/x-python",
   "name": "python",
   "nbconvert_exporter": "python",
   "pygments_lexer": "ipython3",
   "version": "3.9.13"
  }
 },
 "nbformat": 4,
 "nbformat_minor": 5
}
